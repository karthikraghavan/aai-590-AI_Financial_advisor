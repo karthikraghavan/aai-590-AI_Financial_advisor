{
 "cells": [
  {
   "cell_type": "code",
   "execution_count": 4,
   "id": "77e7788d",
   "metadata": {},
   "outputs": [
    {
     "name": "stdout",
     "output_type": "stream",
     "text": [
      "Name: langchain\n",
      "Version: 1.0.2\n",
      "Summary: Building applications with LLMs through composability\n",
      "Home-page: https://docs.langchain.com/\n",
      "Author: \n",
      "Author-email: \n",
      "License: MIT\n",
      "Location: /opt/anaconda3/envs/finbert/lib/python3.10/site-packages\n",
      "Requires: langchain-core, langgraph, pydantic\n",
      "Required-by: langchain-tavily\n",
      "Note: you may need to restart the kernel to use updated packages.\n"
     ]
    }
   ],
   "source": [
    "pip show langchain"
   ]
  },
  {
   "cell_type": "code",
   "execution_count": 19,
   "id": "1f470a63",
   "metadata": {},
   "outputs": [
    {
     "name": "stdout",
     "output_type": "stream",
     "text": [
      "Collecting pypdf\n",
      "  Downloading pypdf-6.1.3-py3-none-any.whl.metadata (7.1 kB)\n",
      "Requirement already satisfied: typing_extensions>=4.0 in /opt/anaconda3/envs/finbert/lib/python3.10/site-packages (from pypdf) (4.14.1)\n",
      "Downloading pypdf-6.1.3-py3-none-any.whl (323 kB)\n",
      "Installing collected packages: pypdf\n",
      "Successfully installed pypdf-6.1.3\n"
     ]
    }
   ],
   "source": [
    "!pip install pypdf"
   ]
  },
  {
   "cell_type": "code",
   "execution_count": 13,
   "id": "94b2981a",
   "metadata": {},
   "outputs": [
    {
     "name": "stdout",
     "output_type": "stream",
     "text": [
      "Collecting faiss-cpu\n",
      "  Downloading faiss_cpu-1.12.0-cp310-cp310-macosx_14_0_arm64.whl.metadata (5.1 kB)\n",
      "Requirement already satisfied: numpy<3.0,>=1.25.0 in /opt/anaconda3/envs/finbert/lib/python3.10/site-packages (from faiss-cpu) (1.26.4)\n",
      "Requirement already satisfied: packaging in /opt/anaconda3/envs/finbert/lib/python3.10/site-packages (from faiss-cpu) (24.2)\n",
      "Downloading faiss_cpu-1.12.0-cp310-cp310-macosx_14_0_arm64.whl (3.4 MB)\n",
      "\u001b[2K   \u001b[90m━━━━━━━━━━━━━━━━━━━━━━━━━━━━━━━━━━━━━━━━\u001b[0m \u001b[32m3.4/3.4 MB\u001b[0m \u001b[31m44.4 MB/s\u001b[0m eta \u001b[36m0:00:00\u001b[0m\n",
      "\u001b[?25hInstalling collected packages: faiss-cpu\n",
      "Successfully installed faiss-cpu-1.12.0\n"
     ]
    }
   ],
   "source": [
    "!pip install faiss-cpu"
   ]
  },
  {
   "cell_type": "code",
   "execution_count": 69,
   "id": "dca3ac85",
   "metadata": {},
   "outputs": [],
   "source": [
    "from langgraph.prebuilt import ToolNode\n",
    "from langgraph.graph import StateGraph, MessagesState, START, END\n",
    "from langchain_core.tools import tool\n",
    "import yfinance as yf\n",
    "import pandas as pd\n",
    "import json\n",
    "import os\n",
    "from datetime import datetime\n",
    "from typing import Literal\n",
    "from langchain_text_splitters import RecursiveCharacterTextSplitter\n",
    "from langchain_community.vectorstores import FAISS\n",
    "from langchain_community.embeddings import OpenAIEmbeddings\n",
    "from langchain_community.document_loaders import PyPDFLoader\n",
    "from langchain_core.prompts import ChatPromptTemplate\n",
    "from langchain_openai import ChatOpenAI\n",
    "from operator import itemgetter\n",
    "from typing import Dict, Any, Optional\n",
    "from langchain_core.messages import SystemMessage, HumanMessage, ToolMessage\n",
    "from langchain_core.output_parsers import StrOutputParser\n",
    "from langchain_core.runnables import RunnablePassthrough\n",
    "\n",
    "\n",
    "\n",
    "from dotenv import load_dotenv\n",
    "import faiss\n",
    "load_dotenv()\n",
    "\n",
    "os.environ[\"OPEN_AI_KEY\"]=os.getenv(\"OPEN_AI_KEY\")\n"
   ]
  },
  {
   "cell_type": "markdown",
   "id": "491cada7",
   "metadata": {},
   "source": [
    "## Market Analysis"
   ]
  },
  {
   "cell_type": "code",
   "execution_count": 17,
   "id": "86d78697",
   "metadata": {},
   "outputs": [],
   "source": [
    "def get_ytd_return(ticker):\n",
    "    year_start = datetime(datetime.today().year, 1, 1)\n",
    "    data = yf.download(ticker, start=year_start)\n",
    "    if len(data) < 2:\n",
    "        return None\n",
    "    first_open = float(data[\"Open\"].iloc[0])\n",
    "    last_close = float(data[\"Close\"].iloc[-1])\n",
    "    ytd_return = (last_close - first_open) / first_open * 100\n",
    "    return round(ytd_return, 2)\n",
    "\n",
    "def get_latest_close(ticker):\n",
    "    data = yf.Ticker(ticker).history(period=\"2d\")\n",
    "    if \"Close\" in data and len(data) > 0:\n",
    "        # Extract scalar from possible Series using float()\n",
    "        return float(data[\"Close\"].iloc[-1])\n",
    "    return None\n",
    "\n",
    "\n",
    "@tool\n",
    "def getMarketAnalysis() -> str:\n",
    "    \"\"\"\n",
    "    Analyze the market data and provide insights.\n",
    "    \"\"\"\n",
    "    # Logic to analyze market data\n",
    "    results = {\n",
    "        \"S&P 500 YTD (%)\": get_ytd_return(\"^GSPC\"),\n",
    "        \"AGG ETF YTD (%)\": get_ytd_return(\"AGG\"),\n",
    "        \"VIX Current\": get_latest_close(\"^VIX\"),\n",
    "    }\n",
    "    market_results = json.dumps(results, indent=2)\n",
    "    return market_results"
   ]
  },
  {
   "cell_type": "markdown",
   "id": "5fcebc20",
   "metadata": {},
   "source": [
    "## Portfolio Recommendaiton"
   ]
  },
  {
   "cell_type": "code",
   "execution_count": 85,
   "id": "b84fd01f",
   "metadata": {},
   "outputs": [],
   "source": [
    "def init_inputdata(market_json: str): \n",
    "  client_profile = {\n",
    "    \"age\": 49,\n",
    "    \"gender\": \"Male\",\n",
    "    \"education\": \"PhD\",\n",
    "    \"marital_status\": \"Divorced\",\n",
    "    \"employment\": {\n",
    "      \"current_status\": \"Unemployed\",\n",
    "      \"previous_job_tenure_years\": 19\n",
    "    },\n",
    "    \"annual_income\": 72799,\n",
    "    \"assets\": 120228,\n",
    "    \"debt\": {\n",
    "      \"amount\": 45713,\n",
    "      \"type\": \"Business Loan\"\n",
    "    },\n",
    "    \"credit_score\": 688,\n",
    "    \"credit_score_label\": \"Fair\",\n",
    "    \"payment_history\": {\n",
    "      \"quality\": \"Poor\",\n",
    "      \"prior_defaults\": 2\n",
    "    },\n",
    "    \"debt_to_income_ratio_percent\": 15,\n",
    "    \"debt_to_income_ratio_comment\": \"manageable, but watch repayment capacity\",\n",
    "    \"risk_rating\": \"Low\",\n",
    "    \"investor_profile\": \"Conservative\"\n",
    "  }\n",
    "\n",
    "  market_data = {\n",
    "      \"S&P 500 YTD (%)\": 16.73,\n",
    "      \"AGG ETF YTD (%)\": 6.92,  \n",
    "      \"VIX Current\": 16.920000076293945 \n",
    "  }\n",
    "  prompt_profile = json.dumps(client_profile, indent=2)\n",
    "  prompt_market = json.dumps(market_json, indent=2)\n",
    "  \n",
    "  return prompt_profile, prompt_market\n"
   ]
  },
  {
   "cell_type": "code",
   "execution_count": 86,
   "id": "543bf210",
   "metadata": {},
   "outputs": [],
   "source": [
    "FAISS_STORE = 'faiss_vector_store'\n",
    "asset_documents = os.path.join('data', 'Investment Report', 'PortfolioRecommendationMorningstar.pdf')\n",
    "\n",
    "def getapikey():\n",
    "    api_key = os.getenv(\"OPEN_AI_KEY\")\n",
    "    if api_key:\n",
    "        api_key = api_key.strip()\n",
    "        return api_key\n",
    "    return None\n",
    "\n",
    "def format_docs(docs):\n",
    "    return \"\\n\\n\".join(d.page_content for d in docs)\n",
    "\n",
    "\n",
    "def build_and_store_(embeddings, doc_path):\n",
    "    #check if FAISS vector store exists\n",
    "    if os.path.exists(FAISS_STORE):\n",
    "        print(\"Loading existing FAISS vector store...\")\n",
    "        return FAISS.load_local(\n",
    "            FAISS_STORE, \n",
    "            embeddings,\n",
    "            allow_dangerous_deserialization=True\n",
    "        )\n",
    "    \n",
    "    print(\"Building new FAISS vector store...\")\n",
    "    # Load the PDF document\n",
    "    loader = PyPDFLoader(doc_path)\n",
    "    documents = loader.load()\n",
    "    # Split the documents into smaller chunks\n",
    "    text_splitter = RecursiveCharacterTextSplitter(chunk_size=1000, chunk_overlap=200)\n",
    "    docs = text_splitter.split_documents(documents)\n",
    "    #embeddings = OpenAIEmbeddings()\n",
    "    vector_store = FAISS.from_documents(docs, embeddings)\n",
    "    vector_store.save_local(FAISS_STORE)\n",
    "    return vector_store\n",
    "\n",
    "def generate_prompt_response(retriever, embeddings, market_json):\n",
    "\n",
    "    # Prepare prompt data\n",
    "    prompt_profile, prompt_market = init_inputdata(market_json)\n",
    "\n",
    "    # initialize Chat model\n",
    "    openai_chat_model = ChatOpenAI(model=\"gpt-4o-mini\", temperature=0, openai_api_key=getapikey())\n",
    "    \n",
    "    RAG_PROMPT = \"\"\"\n",
    "            You are a professional financial advisor. \n",
    "            Your task is to generate a portfolio recommendation based on a client profile and current market outlook.\n",
    "\n",
    "            ### Instructions:\n",
    "            1. Always analyze the client profile (age, income, assets, debt, risk tolerance, etc.) before recommending.  \n",
    "            2. Incorporate the provided market data (S&P 500, Bonds/AGG, VIX).  \n",
    "            3. Follow a **clear structure** in your response:\n",
    "            - Portfolio Recommendation Table (Asset Class | Target Allocation % | Example Instruments)  \n",
    "            - Rationale (Explain in simple terms why each allocation is chosen, considering both client profile and market data).  \n",
    "            - Compliance & Suitability Notes (Ensure recommendations align with risk profile and liquidity needs).  \n",
    "\n",
    "            4. Keep the explanation **concise, client-friendly, and professional**.  \n",
    "\n",
    "            ### Example Output Format\n",
    "\n",
    "            Client Profile:  \n",
    "            - Age: 45, Married, Employed, Annual Income: $90K, Assets: $150K, Debt: $25K (Mortgage), Risk Rating: Medium  \n",
    "            - Market Data insights: S&P 500 +8.2% YTD, Bonds -0.5% YTD, VIX 18  \n",
    "\n",
    "            **Portfolio Recommendation Table**  \n",
    "            | Asset Class                 | Target Allocation | Example Instruments          |  \n",
    "            |------------------------------|------------------|------------------------------|  \n",
    "            | U.S. Bonds (Short-Maturity) | 30%              | SHY, BND                     |  \n",
    "            | U.S. Equities (Large Cap)   | 40%              | SPY, VOO                     |  \n",
    "            | International Equities       | 15%              | VXUS                         |  \n",
    "            | Cash & Money Market         | 15%              | Money Market Fund, HYSA      |  \n",
    "\n",
    "            **Rationale:**  \n",
    "            This allocation balances stability and growth. The 30% bonds provide safety given the medium risk profile. 40% equities capture ongoing U.S. market growth (S&P +8.2%). 15% international equities add diversification. 15% cash ensures liquidity for short-term needs.  \n",
    "\n",
    "            ### Now Apply the Same to This Case\n",
    "\n",
    "            Client Profile:\n",
    "            {prompt_profile}\n",
    "\n",
    "            Market Data:\n",
    "            {prompt_market}\n",
    "\n",
    "            Provide the portfolio recommendation in the same structured format.\n",
    "            \"\"\".strip()\n",
    "    \n",
    "    rag_prompt = ChatPromptTemplate.from_template(RAG_PROMPT)\n",
    "    retrieval_augmented_generation_chain = (\n",
    "        {\n",
    "            # fan-out: derive the two prompt fields\n",
    "            \"question\": itemgetter(\"question\"),\n",
    "            \"context\": itemgetter(\"question\") | retriever | format_docs,\n",
    "            \"prompt_profile\": lambda _: prompt_profile,\n",
    "            \"prompt_market\":  lambda _: prompt_market,\n",
    "        }\n",
    "        # feed them to prompt -> model -> parse to a string\n",
    "        | rag_prompt\n",
    "        | openai_chat_model\n",
    "        | StrOutputParser()\n",
    "    )\n",
    "\n",
    "    result = retrieval_augmented_generation_chain.invoke({\"question\": \"AI Financial advisor\"})\n",
    "\n",
    "    return result\n"
   ]
  },
  {
   "cell_type": "code",
   "execution_count": null,
   "id": "aebd42ad",
   "metadata": {},
   "outputs": [
    {
     "name": "stdout",
     "output_type": "stream",
     "text": [
      "Loading existing FAISS vector store...\n"
     ]
    }
   ],
   "source": [
    "embeddings = OpenAIEmbeddings(model=\"text-embedding-3-small\", openai_api_key=getapikey())\n",
    "# Get Vector store from disk\n",
    "vector_store = build_and_store_(embeddings, asset_documents)\n",
    "#\n",
    "retriever = vector_store.as_retriever()"
   ]
  },
  {
   "cell_type": "code",
   "execution_count": null,
   "id": "16349555",
   "metadata": {},
   "outputs": [
    {
     "data": {
      "text/plain": [
       "\"**Client Profile:**  \\n- Age: 49, Male, Divorced, PhD  \\n- Employment: Unemployed (previously employed for 19 years)  \\n- Annual Income: $72,799  \\n- Assets: $120,228  \\n- Debt: $45,713 (Business Loan)  \\n- Credit Score: 688 (Fair)  \\n- Payment History: Poor (2 prior defaults)  \\n- Debt-to-Income Ratio: 15% (manageable)  \\n- Risk Rating: Low  \\n- Investor Profile: Conservative  \\n\\n**Market Data Insights:**  \\n- S&P 500 YTD: +16.73%  \\n- AGG ETF YTD: +6.92%  \\n- VIX: 16.92  \\n\\n**Portfolio Recommendation Table**  \\n| Asset Class                 | Target Allocation | Example Instruments          |  \\n|------------------------------|------------------|------------------------------|  \\n| U.S. Bonds (Intermediate)   | 50%              | AGG, BND                     |  \\n| U.S. Equities (Large Cap)   | 20%              | SPY, VOO                     |  \\n| Cash & Money Market         | 20%              | Money Market Fund, HYSA      |  \\n| Alternative Investments       | 10%              | REITs, Commodities           |  \\n\\n**Rationale:**  \\nThis portfolio is designed to align with the client's conservative risk profile and current financial situation.  \\n- **50% U.S. Bonds (Intermediate):** Given the low-risk tolerance and the need for stability, a significant allocation to bonds provides safety and income. The AGG ETF has performed well (+6.92% YTD), making it a suitable choice for conservative investors.  \\n- **20% U.S. Equities (Large Cap):** While the client is conservative, a modest allocation to equities allows for potential growth, especially with the S&P 500 showing strong performance (+16.73% YTD). This exposure can help combat inflation and enhance long-term returns.  \\n- **20% Cash & Money Market:** Maintaining liquidity is crucial, especially given the client's unemployment status. This allocation ensures that funds are readily available for any immediate needs or emergencies.  \\n- **10% Alternative Investments:** A small allocation to REITs or commodities can provide diversification and potential for higher returns without significantly increasing risk. This can be beneficial in a low-interest-rate environment.\\n\\n**Compliance & Suitability Notes:**  \\nThis portfolio is suitable for the client's low-risk profile and current financial circumstances. The focus on bonds and cash ensures that the client can manage their debt obligations while still having some exposure to growth through equities and alternatives. Regular reviews should be conducted to adjust the portfolio as the client's employment status and financial situation change.\""
      ]
     },
     "execution_count": 38,
     "metadata": {},
     "output_type": "execute_result"
    }
   ],
   "source": [
    "result = generate_prompt_response(retriever, embeddings)\n",
    "result"
   ]
  },
  {
   "cell_type": "code",
   "execution_count": 87,
   "id": "2571c8b7",
   "metadata": {},
   "outputs": [],
   "source": [
    "@tool\n",
    "def getInvestmentRecommendations(risk_rating, market_analysis):\n",
    "    \"\"\"\n",
    "    Generate investment recommendations based on risk rating and market analysis.\n",
    "    \"\"\"\n",
    "    print(f\"[DEBUG] market_analysis={market_analysis}\")\n",
    "    # Logic to generate investment recommendations\n",
    "    investment_advise = generate_prompt_response(\n",
    "        retriever = retriever, \n",
    "        embeddings = embeddings,\n",
    "        market_json = market_analysis\n",
    "    )\n",
    "    return investment_advise"
   ]
  },
  {
   "cell_type": "markdown",
   "id": "fe172cae",
   "metadata": {},
   "source": [
    "## Agentic AI"
   ]
  },
  {
   "cell_type": "code",
   "execution_count": 88,
   "id": "208c720d",
   "metadata": {},
   "outputs": [],
   "source": [
    "class AgentState(MessagesState):\n",
    "    market: Optional[Dict[str, Any]] = None"
   ]
  },
  {
   "cell_type": "markdown",
   "id": "01bf2810",
   "metadata": {},
   "source": [
    "#### Agent Nodes"
   ]
  },
  {
   "cell_type": "code",
   "execution_count": 89,
   "id": "2ec03d8c",
   "metadata": {},
   "outputs": [],
   "source": [
    "llm = ChatOpenAI(model=\"gpt-4o-mini\", temperature=0, openai_api_key=getapikey())\n",
    "\n",
    "#tool_node = ToolNode([getMarketAnalysis, getInvestmentRecommendations])\n",
    "\n",
    "\n",
    "def market_agent(state: AgentState):\n",
    "    sys = SystemMessage(content=(\n",
    "        \"You are a market analyst. Call getMarketAnalysis. \"\n",
    "        \"Do not answer with prose; only call the tool.\"\n",
    "    ))\n",
    "    resp = llm.bind_tools([getMarketAnalysis]).invoke([sys] + state[\"messages\"])\n",
    "    return {\"messages\": [resp]}\n",
    "\n",
    "def allocation_agent(state: AgentState):\n",
    "    market_json = json.dumps(state.get(\"market\", {}), indent=2)\n",
    "    #risk = state.get(\"risk_rating\") or \"Low\"\n",
    "\n",
    "    sys = SystemMessage(content=(\n",
    "        \"You are an investment strategist. Use the stored market JSON \"\n",
    "        \"getInvestmentRecommendations(market_analysis=...). \"\n",
    "        \"Do not answer with prose; only call the tool.\"\n",
    "    ))\n",
    "    helper = HumanMessage(content=f\"market_analysis:\\n{market_json}\")\n",
    "    planner = llm.bind_tools([getInvestmentRecommendations])\n",
    "    resp = planner.invoke([sys] + state[\"messages\"] + [helper])\n",
    "    return {\"messages\": [resp]}\n"
   ]
  },
  {
   "cell_type": "code",
   "execution_count": 90,
   "id": "2f688eba",
   "metadata": {},
   "outputs": [
    {
     "data": {
      "image/png": "[encoded data removed]",
      "text/plain": [
       "<langgraph.graph.state.CompiledStateGraph object at 0x3207c90c0>"
      ]
     },
     "execution_count": 90,
     "metadata": {},
     "output_type": "execute_result"
    }
   ],
   "source": [
    "# tool nodes bound to specific tools\n",
    "tools_market = ToolNode([getMarketAnalysis])\n",
    "tools_alloc  = ToolNode([getInvestmentRecommendations])\n",
    "\n",
    "# Build graph (NODES FIRST, then EDGES)\n",
    "graph = StateGraph(AgentState)\n",
    "\n",
    "graph.add_node(\"market_agent\", market_agent)\n",
    "graph.add_node(\"allocation_agent\", allocation_agent)\n",
    "graph.add_node(\"tools_market\", tools_market)\n",
    "graph.add_node(\"tools_alloc\", tools_alloc)\n",
    "\n",
    "# Edges \n",
    "graph.add_edge(START, \"market_agent\")\n",
    "graph.add_edge(\"market_agent\", \"tools_market\")        # only market tool runs here\n",
    "graph.add_edge(\"tools_market\", \"allocation_agent\")\n",
    "graph.add_edge(\"allocation_agent\", \"tools_alloc\")     # only allocation tool runs here\n",
    "graph.add_edge(\"tools_alloc\", END)\n",
    "\n",
    "agent = graph.compile()\n",
    "agent"
   ]
  },
  {
   "cell_type": "code",
   "execution_count": 91,
   "id": "b42843e5",
   "metadata": {},
   "outputs": [
    {
     "name": "stdout",
     "output_type": "stream",
     "text": [
      "================================\u001b[1m Human Message \u001b[0m=================================\n",
      "\n",
      "Analyze market first, then recommend an allocation for a low-risk client.\n"
     ]
    },
    {
     "name": "stderr",
     "output_type": "stream",
     "text": [
      "/var/folders/0_/skr2d259613gs33jbnv_ytn80000gn/T/ipykernel_78134/2587265592.py:3: FutureWarning: YF.download() has changed argument auto_adjust default to True\n",
      "  data = yf.download(ticker, start=year_start)\n",
      "[*********************100%***********************]  1 of 1 completed"
     ]
    },
    {
     "name": "stdout",
     "output_type": "stream",
     "text": [
      "==================================\u001b[1m Ai Message \u001b[0m==================================\n",
      "Tool Calls:\n",
      "  getMarketAnalysis (call_B3wQvvCPrbUW3VCuBgPdC4PF)\n",
      " Call ID: call_B3wQvvCPrbUW3VCuBgPdC4PF\n",
      "  Args:\n"
     ]
    },
    {
     "name": "stderr",
     "output_type": "stream",
     "text": [
      "\n",
      "/var/folders/0_/skr2d259613gs33jbnv_ytn80000gn/T/ipykernel_78134/2587265592.py:6: FutureWarning: Calling float on a single element Series is deprecated and will raise a TypeError in the future. Use float(ser.iloc[0]) instead\n",
      "  first_open = float(data[\"Open\"].iloc[0])\n",
      "/var/folders/0_/skr2d259613gs33jbnv_ytn80000gn/T/ipykernel_78134/2587265592.py:7: FutureWarning: Calling float on a single element Series is deprecated and will raise a TypeError in the future. Use float(ser.iloc[0]) instead\n",
      "  last_close = float(data[\"Close\"].iloc[-1])\n",
      "/var/folders/0_/skr2d259613gs33jbnv_ytn80000gn/T/ipykernel_78134/2587265592.py:3: FutureWarning: YF.download() has changed argument auto_adjust default to True\n",
      "  data = yf.download(ticker, start=year_start)\n",
      "[*********************100%***********************]  1 of 1 completed\n",
      "/var/folders/0_/skr2d259613gs33jbnv_ytn80000gn/T/ipykernel_78134/2587265592.py:6: FutureWarning: Calling float on a single element Series is deprecated and will raise a TypeError in the future. Use float(ser.iloc[0]) instead\n",
      "  first_open = float(data[\"Open\"].iloc[0])\n",
      "/var/folders/0_/skr2d259613gs33jbnv_ytn80000gn/T/ipykernel_78134/2587265592.py:7: FutureWarning: Calling float on a single element Series is deprecated and will raise a TypeError in the future. Use float(ser.iloc[0]) instead\n",
      "  last_close = float(data[\"Close\"].iloc[-1])\n"
     ]
    },
    {
     "name": "stdout",
     "output_type": "stream",
     "text": [
      "=================================\u001b[1m Tool Message \u001b[0m=================================\n",
      "Name: getMarketAnalysis\n",
      "\n",
      "{\n",
      "  \"S&P 500 YTD (%)\": 15.57,\n",
      "  \"AGG ETF YTD (%)\": 6.72,\n",
      "  \"VIX Current\": 16.90999984741211\n",
      "}\n",
      "==================================\u001b[1m Ai Message \u001b[0m==================================\n",
      "Tool Calls:\n",
      "  getInvestmentRecommendations (call_tKMkg3nkEfhihlDLNvPtsBdo)\n",
      " Call ID: call_tKMkg3nkEfhihlDLNvPtsBdo\n",
      "  Args:\n",
      "    risk_rating: low\n",
      "    market_analysis: {'S&P 500 YTD (%)': 15.57, 'AGG ETF YTD (%)': 6.72, 'VIX Current': 16.90999984741211}\n",
      "[DEBUG] market_analysis={'S&P 500 YTD (%)': 15.57, 'AGG ETF YTD (%)': 6.72, 'VIX Current': 16.90999984741211}\n",
      "=================================\u001b[1m Tool Message \u001b[0m=================================\n",
      "Name: getInvestmentRecommendations\n",
      "\n",
      "**Client Profile:**  \n",
      "- Age: 49, Male, Divorced, Education: PhD, Employment: Unemployed (previously employed for 19 years), Annual Income: $72,799, Assets: $120,228, Debt: $45,713 (Business Loan), Credit Score: 688 (Fair), Payment History: Poor (2 prior defaults), Debt-to-Income Ratio: 15% (manageable), Risk Rating: Low, Investor Profile: Conservative  \n",
      "\n",
      "**Market Data Insights:**  \n",
      "- S&P 500 YTD: +15.57%  \n",
      "- AGG ETF YTD: +6.72%  \n",
      "- VIX: 16.91  \n",
      "\n",
      "**Portfolio Recommendation Table**  \n",
      "| Asset Class                 | Target Allocation | Example Instruments          |  \n",
      "|------------------------------|------------------|------------------------------|  \n",
      "| U.S. Bonds (Intermediate)   | 50%              | BND, AGG                     |  \n",
      "| U.S. Equities (Large Cap)   | 20%              | SPY, VOO                     |  \n",
      "| Cash & Money Market         | 20%              | Money Market Fund, HYSA      |  \n",
      "| Alternative Investments       | 10%              | REITs, Commodities           |  \n",
      "\n",
      "**Rationale:**  \n",
      "This portfolio is designed to align with the client's conservative risk profile and current financial situation. The 50% allocation to U.S. bonds provides stability and income, which is crucial given the client's unemployment status and existing debt. The bonds also offer a buffer against market volatility, especially with the VIX at a relatively low level (16.91). \n",
      "\n",
      "The 20% allocation to U.S. equities allows for some growth potential, capitalizing on the strong performance of the S&P 500 (+15.57% YTD) while still maintaining a conservative stance. The 20% in cash ensures liquidity for any immediate needs or emergencies, which is important given the client's current unemployment. \n",
      "\n",
      "Finally, a 10% allocation to alternative investments, such as REITs or commodities, provides diversification and potential for higher returns without significantly increasing risk. This allocation is modest to ensure it aligns with the client's low-risk tolerance.\n",
      "\n",
      "**Compliance & Suitability Notes:**  \n",
      "This portfolio recommendation is suitable for the client's conservative risk profile and current financial circumstances. The focus on bonds and cash ensures that the client can manage their debt obligations while still having some exposure to growth through equities and alternative investments. Regular reviews and adjustments may be necessary, especially as the client's employment situation changes.\n"
     ]
    }
   ],
   "source": [
    "if __name__ == \"__main__\":\n",
    "    init_state = {\n",
    "        \"messages\": [HumanMessage(content=\n",
    "            \"Analyze market first, then recommend an allocation for a low-risk client.\"\n",
    "        )]\n",
    "    }\n",
    "    for step in agent.stream(init_state, stream_mode=\"values\"):\n",
    "        msg = step[\"messages\"][-1]\n",
    "        try:\n",
    "            msg.pretty_print()\n",
    "        except Exception:\n",
    "            print(msg)"
   ]
  },
  {
   "cell_type": "code",
   "execution_count": null,
   "id": "db6e394e",
   "metadata": {},
   "outputs": [],
   "source": [
    "\n",
    "# Define tool methods\n",
    "@tool\n",
    "def getRiskRating(user_profile):\n",
    "    \"\"\"\n",
    "    Determine the risk rating based on the user's profile.\n",
    "    \"\"\"\n",
    "    # Logic to determine risk rating based on user profile\n",
    "    return \"Moderate Risk\" \n",
    "\n",
    "\n",
    "@tool\n",
    "def getRegulatoryComplianceCheck(recommendations):\n",
    "    \"\"\"\n",
    "    Check if the investment recommendations comply with regulations.\n",
    "    \"\"\"\n",
    "    # Logic to check regulatory compliance\n",
    "    return True\n",
    "\n",
    "@tool\n",
    "def getEducationalContent(user_profile):\n",
    "    \"\"\"\n",
    "    Provide educational content based on the user's profile.\n",
    "    \"\"\"\n",
    "    # Logic to provide educational content\n",
    "    return [\"Basics of stock market\", \"Understanding risk and return\"]\n"
   ]
  }
 ],
 "metadata": {
  "kernelspec": {
   "display_name": "finbert",
   "language": "python",
   "name": "python3"
  },
  "language_info": {
   "codemirror_mode": {
    "name": "ipython",
    "version": 3
   },
   "file_extension": ".py",
   "mimetype": "text/x-python",
   "name": "python",
   "nbconvert_exporter": "python",
   "pygments_lexer": "ipython3",
   "version": "3.10.18"
  }
 },
 "nbformat": 4,
 "nbformat_minor": 5
}
